{
 "cells": [
  {
   "cell_type": "code",
   "execution_count": 5,
   "id": "6536c5a5",
   "metadata": {},
   "outputs": [
    {
     "name": "stdout",
     "output_type": "stream",
     "text": [
      "7 hours 36 minutes\n"
     ]
    }
   ],
   "source": [
    "#실습문제 1번\n",
    "data = 456\n",
    "hours = int(data/60)\n",
    "minutes = data%60\n",
    "print(\"%d hours %d minutes\"%(hours,minutes))"
   ]
  },
  {
   "cell_type": "code",
   "execution_count": 6,
   "id": "21f09476",
   "metadata": {},
   "outputs": [
    {
     "name": "stdout",
     "output_type": "stream",
     "text": [
      "김철수 2.8\n"
     ]
    }
   ],
   "source": [
    "#실습문제 2번\n",
    "student = {\"홍길동\":3.4, \"임꺽정\":4.0, \"김철수\":2.8, \"이영희\":3.9}\n",
    "sdict = sorted(student.items())\n",
    "print(sdict[0][0], sdict[0][1])"
   ]
  },
  {
   "cell_type": "code",
   "execution_count": null,
   "id": "164a1918",
   "metadata": {},
   "outputs": [],
   "source": []
  }
 ],
 "metadata": {
  "kernelspec": {
   "display_name": "Python 3 (ipykernel)",
   "language": "python",
   "name": "python3"
  },
  "language_info": {
   "codemirror_mode": {
    "name": "ipython",
    "version": 3
   },
   "file_extension": ".py",
   "mimetype": "text/x-python",
   "name": "python",
   "nbconvert_exporter": "python",
   "pygments_lexer": "ipython3",
   "version": "3.10.4"
  }
 },
 "nbformat": 4,
 "nbformat_minor": 5
}
